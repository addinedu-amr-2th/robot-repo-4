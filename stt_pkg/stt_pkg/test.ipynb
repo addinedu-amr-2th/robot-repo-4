{
 "cells": [
  {
   "cell_type": "code",
   "execution_count": 11,
   "metadata": {},
   "outputs": [
    {
     "name": "stdout",
     "output_type": "stream",
     "text": [
      "This is a sample text. It contains some 숫자. and *elements.\n"
     ]
    }
   ],
   "source": [
    "import re\n",
    "response_message = \"This is a sample text. It\\' contains some 숫자. and - elements.\"\n",
    "response_message = re.sub(r\"\\d+\\.\\s\", \"*\", response_message).replace(\"\\'\", \"\")\n",
    "response_message = re.sub(r\"- \", \"*\", response_message).replace('\\\"', '')\n",
    "print(response_message)"
   ]
  },
  {
   "cell_type": "code",
   "execution_count": null,
   "metadata": {},
   "outputs": [],
   "source": []
  }
 ],
 "metadata": {
  "kernelspec": {
   "display_name": "Python 3",
   "language": "python",
   "name": "python3"
  },
  "language_info": {
   "codemirror_mode": {
    "name": "ipython",
    "version": 3
   },
   "file_extension": ".py",
   "mimetype": "text/x-python",
   "name": "python",
   "nbconvert_exporter": "python",
   "pygments_lexer": "ipython3",
   "version": "3.10.6"
  },
  "orig_nbformat": 4
 },
 "nbformat": 4,
 "nbformat_minor": 2
}
